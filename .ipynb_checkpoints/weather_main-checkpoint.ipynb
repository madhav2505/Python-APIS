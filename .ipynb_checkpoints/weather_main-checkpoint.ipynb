{
 "cells": [
  {
   "cell_type": "code",
   "execution_count": null,
   "metadata": {
    "collapsed": true,
    "scrolled": true
   },
   "outputs": [],
   "source": [
    "from citipy import citipy\n",
    "from random import random\n",
    "import numpy as np\n",
    "from random import uniform\n",
    "import matplotlib.pyplot as plt\n",
    "import openweathermapy as ow\n",
    "import pandas as pd\n",
    "import time\n",
    "from pprint import pprint\n",
    "import requests as req"
   ]
  },
  {
   "cell_type": "code",
   "execution_count": null,
   "metadata": {
    "collapsed": true
   },
   "outputs": [],
   "source": [
    "list1 = np.random.uniform(-80,80, size = 1200)\n",
    "list2 = np.random.uniform(-180,180, size = 1200)\n",
    "list1_df = pd.DataFrame({\"Lat\": list1, \"Lng\": list2})\n",
    "list1_df.head()\n",
    "list1_df.count()"
   ]
  },
  {
   "cell_type": "code",
   "execution_count": null,
   "metadata": {
    "collapsed": true
   },
   "outputs": [],
   "source": [
    "list1_df[\"City\"] = \"\"\n",
    "list1_df[\"Country\"] = \"\"\n",
    "\n",
    "# Use citipy to find the nearest city to given random coords and write into the DF\n",
    "for index, row in list1_df.iterrows():\n",
    "    city = citipy.nearest_city(row[\"Lat\"], row[\"Lng\"])\n",
    "    list1_df.set_value(index, \"City\", city.city_name)\n",
    "    list1_df.set_value(index, \"Country\", city.country_code)\n",
    "\n",
    "# Remove duplicate cities\n",
    "list1_df = list1_df.drop_duplicates([\"City\"], keep='first')\n",
    "list1_df.head()"
   ]
  },
  {
   "cell_type": "code",
   "execution_count": null,
   "metadata": {
    "collapsed": true
   },
   "outputs": [],
   "source": [
    "akey = \"34ae2627193903bb86906bf116b20b46\"\n",
    "url = \"http://api.openweathermap.org/data/2.5/weather?q=\"\n",
    "\n",
    "\n",
    "query = url + row[\"City\"].replace(\" \",\"+\") + \",\" + row[\"Country\"] + \"&appid=\" + akey + \"&units=imperial\"\n",
    "result = req.get(query).json()\n",
    "print(result)"
   ]
  },
  {
   "cell_type": "code",
   "execution_count": null,
   "metadata": {
    "collapsed": true
   },
   "outputs": [],
   "source": [
    "akey = \"34ae2627193903bb86906bf116b20b46\"\n",
    "url = \"http://api.openweathermap.org/data/2.5/weather?q=\"\n",
    "\n",
    "list1_df[\"Max Temp\"] = \"\"\n",
    "list1_df[\"Hum\"] = \"\"\n",
    "list1_df[\"Cloud\"] = \"\"\n",
    "list1_df[\"Wind\"] = \"\"\n",
    "\n",
    "SleepCounter = 0\n",
    "PullCounter = 0\n",
    "BatchCounter = 1\n",
    "\n",
    "# Loop through the APIs to construct new columns in df\n",
    "for index, row in list1_df.iterrows():\n",
    "    try:\n",
    "        query = url + row[\"City\"].replace(\" \",\"+\") + \",\" + row[\"Country\"] + \"&appid=\" + akey + \"&units=imperial\"\n",
    "        #get = req.get(query)\n",
    "        result = req.get(query).json()\n",
    "        #print(result)\n",
    "        list1_df.set_value(index, \"Max Temp\", result[\"main\"][\"temp_max\"])\n",
    "        list1_df.set_value(index, \"Hum\", result[\"main\"][\"humidity\"])\n",
    "        list1_df.set_value(index, \"Cloud\", result[\"clouds\"][\"all\"])\n",
    "        list1_df.set_value(index, \"Wind\", result[\"wind\"][\"speed\"])\n",
    "    except:\n",
    "        #list1_df.set_value(index, \"Temp\", \"FAIL\")\n",
    "    \n",
    "        PullCounter += 1\n",
    "    \n",
    "        SleepCounter += 1\n",
    "    \n",
    "    # If loop to ensure not overloading the weather API\n",
    "    if SleepCounter == 40:\n",
    "        print(\"~~~ Break Time ~~~\")\n",
    "        time.sleep(10)\n",
    "        print(\"\")\n",
    "        SleepCounter = 0\n",
    "        BatchCounter += 1       \n",
    "    \n",
    "    \n",
    "    # Printing API link\n",
    "        print(\"Processing Record \" + str(PullCounter) + \" of Set \" + str(BatchCounter) +\" | \" + row[\"City\"])\n",
    "        print(query)"
   ]
  },
  {
   "cell_type": "code",
   "execution_count": null,
   "metadata": {
    "collapsed": true
   },
   "outputs": [],
   "source": [
    "# Remove any rows that did not have data and run a final count to ensure a large enough data table\n",
    "final_df = list1_df.loc[list1_df[\"Max Temp\"] != \"FAIL\"]\n",
    "final_df\n"
   ]
  },
  {
   "cell_type": "code",
   "execution_count": null,
   "metadata": {
    "collapsed": true
   },
   "outputs": [],
   "source": [
    "# Make new df's to plot\n",
    "temp_df = list1_df[[\"Lat\",\"Max Temp\"]]\n",
    "hum_df = final_df[[\"Lat\", \"Hum\"]]\n",
    "cloud_df = final_df[[\"Lat\", \"Cloud\"]]\n",
    "wind_df = final_df[[\"Lat\", \"Wind\"]]\n",
    "temp_df"
   ]
  },
  {
   "cell_type": "code",
   "execution_count": null,
   "metadata": {
    "collapsed": true
   },
   "outputs": [],
   "source": [
    "# Lat v Temp scatter plot\n",
    "plt.figure(figsize=(10,7))\n",
    "plt.scatter(temp_df[\"Lat\"],temp_df[\"Max Temp\"], color = \"blue\")\n",
    "plt.title(\"Latitude v Max. Temperature(03/18/18)\")\n",
    "plt.xlabel(\"Current Temperature (Farenheit)\")\n",
    "plt.ylabel(\"Latitude\")\n",
    "plt.ylim(-95, 95)\n",
    "plt.figtext(.95, .5, \"Note: \\nHorizantal line denotes the Equator \\nVertical line denotes the freezing point\", fontsize=12)\n",
    "plt.axhline(y=0, linestyle='--', linewidth = 2, color = \"black\", alpha=.25)\n",
    "plt.axvline(x=32, linestyle = \"--\", linewidth = 1, color = \"black\", alpha = .25)\n",
    "plt.savefig(\"Lat_Temp.png\")\n",
    "plt.show()"
   ]
  },
  {
   "cell_type": "code",
   "execution_count": null,
   "metadata": {
    "collapsed": true
   },
   "outputs": [],
   "source": [
    "# Lat v Hum scatter plot\n",
    "plt.figure(figsize=(8,7))\n",
    "plt.scatter(hum_df[\"Hum\"], hum_df[\"Lat\"], color = \"red\")\n",
    "plt.title(\"Latitude v Humidity\")\n",
    "plt.xlabel(\"Current Humidity (%)\")\n",
    "plt.ylabel(\"Latitude\")\n",
    "plt.axhline(y=0, linestyle='--', linewidth = 2, color = \"black\", alpha=.25)\n",
    "plt.figtext(.95, .5, \"Note: \\nHorizantal line denotes the Equator\", fontsize=12)\n",
    "plt.savefig(\"Lat_Hum.png\", bbox_inches = 'tight')\n",
    "plt.show()"
   ]
  },
  {
   "cell_type": "code",
   "execution_count": null,
   "metadata": {
    "collapsed": true
   },
   "outputs": [],
   "source": []
  }
 ],
 "metadata": {
  "kernelspec": {
   "display_name": "Python 3",
   "language": "python",
   "name": "python3"
  },
  "language_info": {
   "codemirror_mode": {
    "name": "ipython",
    "version": 3
   },
   "file_extension": ".py",
   "mimetype": "text/x-python",
   "name": "python",
   "nbconvert_exporter": "python",
   "pygments_lexer": "ipython3",
   "version": "3.6.3"
  }
 },
 "nbformat": 4,
 "nbformat_minor": 2
}
